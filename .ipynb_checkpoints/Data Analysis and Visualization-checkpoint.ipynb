{
 "cells": [
  {
   "cell_type": "code",
   "execution_count": 247,
   "metadata": {},
   "outputs": [],
   "source": [
    "import pickle\n",
    "import pandas as pd\n",
    "import re\n",
    "import demoji\n",
    "import spacy\n",
    "import en_core_web_sm\n",
    "import matplotlib.pyplot as plt\n",
    "from datetime import datetime"
   ]
  },
  {
   "cell_type": "code",
   "execution_count": 248,
   "metadata": {},
   "outputs": [
    {
     "data": {
      "text/html": [
       "<div>\n",
       "<style scoped>\n",
       "    .dataframe tbody tr th:only-of-type {\n",
       "        vertical-align: middle;\n",
       "    }\n",
       "\n",
       "    .dataframe tbody tr th {\n",
       "        vertical-align: top;\n",
       "    }\n",
       "\n",
       "    .dataframe thead th {\n",
       "        text-align: right;\n",
       "    }\n",
       "</style>\n",
       "<table border=\"1\" class=\"dataframe\">\n",
       "  <thead>\n",
       "    <tr style=\"text-align: right;\">\n",
       "      <th></th>\n",
       "      <th>Tweet</th>\n",
       "      <th>Username</th>\n",
       "      <th>Date</th>\n",
       "      <th>Likes</th>\n",
       "      <th>Retweet count</th>\n",
       "    </tr>\n",
       "  </thead>\n",
       "  <tbody>\n",
       "    <tr>\n",
       "      <td>0</td>\n",
       "      <td>\"Black Lives Matter presents an inaccurate and...</td>\n",
       "      <td>Telegraph</td>\n",
       "      <td>2020-06-30 21:43:14</td>\n",
       "      <td>48</td>\n",
       "      <td>21</td>\n",
       "    </tr>\n",
       "    <tr>\n",
       "      <td>1</td>\n",
       "      <td>\"Our protest was on June 4 and we started to g...</td>\n",
       "      <td>Telegraph</td>\n",
       "      <td>2020-06-30 21:15:21</td>\n",
       "      <td>38</td>\n",
       "      <td>29</td>\n",
       "    </tr>\n",
       "    <tr>\n",
       "      <td>2</td>\n",
       "      <td>\"Glorifying difference is exactly what BLM and...</td>\n",
       "      <td>Telegraph</td>\n",
       "      <td>2020-06-30 07:36:53</td>\n",
       "      <td>39</td>\n",
       "      <td>11</td>\n",
       "    </tr>\n",
       "    <tr>\n",
       "      <td>3</td>\n",
       "      <td>The Black Lives Matter movement has drawn atte...</td>\n",
       "      <td>Telegraph</td>\n",
       "      <td>2020-06-29 19:08:05</td>\n",
       "      <td>13</td>\n",
       "      <td>7</td>\n",
       "    </tr>\n",
       "    <tr>\n",
       "      <td>4</td>\n",
       "      <td>\"Glorifying difference is exactly what BLM and...</td>\n",
       "      <td>Telegraph</td>\n",
       "      <td>2020-06-29 16:40:34</td>\n",
       "      <td>29</td>\n",
       "      <td>12</td>\n",
       "    </tr>\n",
       "    <tr>\n",
       "      <td>...</td>\n",
       "      <td>...</td>\n",
       "      <td>...</td>\n",
       "      <td>...</td>\n",
       "      <td>...</td>\n",
       "      <td>...</td>\n",
       "    </tr>\n",
       "    <tr>\n",
       "      <td>1023</td>\n",
       "      <td>New York City officials on Tuesday agreed to a...</td>\n",
       "      <td>nytimes</td>\n",
       "      <td>2020-06-30 23:40:03</td>\n",
       "      <td>211</td>\n",
       "      <td>71</td>\n",
       "    </tr>\n",
       "    <tr>\n",
       "      <td>1024</td>\n",
       "      <td>Can incremental reforms address racial bias in...</td>\n",
       "      <td>nytimes</td>\n",
       "      <td>2020-06-29 13:00:13</td>\n",
       "      <td>107</td>\n",
       "      <td>27</td>\n",
       "    </tr>\n",
       "    <tr>\n",
       "      <td>1025</td>\n",
       "      <td>After weeks of protests against police brutali...</td>\n",
       "      <td>nytimes</td>\n",
       "      <td>2020-06-29 12:40:03</td>\n",
       "      <td>673</td>\n",
       "      <td>182</td>\n",
       "    </tr>\n",
       "    <tr>\n",
       "      <td>1026</td>\n",
       "      <td>Interviews with superdelegates and members of ...</td>\n",
       "      <td>nytimes</td>\n",
       "      <td>2020-06-26 12:40:06</td>\n",
       "      <td>211</td>\n",
       "      <td>45</td>\n",
       "    </tr>\n",
       "    <tr>\n",
       "      <td>1027</td>\n",
       "      <td>The FBI is investigating after a piece of rope...</td>\n",
       "      <td>cnnbrk</td>\n",
       "      <td>2020-06-27 20:26:54</td>\n",
       "      <td>1625</td>\n",
       "      <td>746</td>\n",
       "    </tr>\n",
       "  </tbody>\n",
       "</table>\n",
       "<p>1028 rows × 5 columns</p>\n",
       "</div>"
      ],
      "text/plain": [
       "                                                  Tweet   Username  \\\n",
       "0     \"Black Lives Matter presents an inaccurate and...  Telegraph   \n",
       "1     \"Our protest was on June 4 and we started to g...  Telegraph   \n",
       "2     \"Glorifying difference is exactly what BLM and...  Telegraph   \n",
       "3     The Black Lives Matter movement has drawn atte...  Telegraph   \n",
       "4     \"Glorifying difference is exactly what BLM and...  Telegraph   \n",
       "...                                                 ...        ...   \n",
       "1023  New York City officials on Tuesday agreed to a...    nytimes   \n",
       "1024  Can incremental reforms address racial bias in...    nytimes   \n",
       "1025  After weeks of protests against police brutali...    nytimes   \n",
       "1026  Interviews with superdelegates and members of ...    nytimes   \n",
       "1027  The FBI is investigating after a piece of rope...     cnnbrk   \n",
       "\n",
       "                    Date Likes Retweet count  \n",
       "0    2020-06-30 21:43:14    48            21  \n",
       "1    2020-06-30 21:15:21    38            29  \n",
       "2    2020-06-30 07:36:53    39            11  \n",
       "3    2020-06-29 19:08:05    13             7  \n",
       "4    2020-06-29 16:40:34    29            12  \n",
       "...                  ...   ...           ...  \n",
       "1023 2020-06-30 23:40:03   211            71  \n",
       "1024 2020-06-29 13:00:13   107            27  \n",
       "1025 2020-06-29 12:40:03   673           182  \n",
       "1026 2020-06-26 12:40:06   211            45  \n",
       "1027 2020-06-27 20:26:54  1625           746  \n",
       "\n",
       "[1028 rows x 5 columns]"
      ]
     },
     "metadata": {},
     "output_type": "display_data"
    },
    {
     "data": {
      "text/plain": [
       "(1028, 5)"
      ]
     },
     "metadata": {},
     "output_type": "display_data"
    }
   ],
   "source": [
    "# loading the dataset we \n",
    "df = pd.DataFrame()\n",
    "df = pickle.load(open(\"30thJunedata\",\"rb\"))\n",
    "display(df, df.shape)"
   ]
  },
  {
   "cell_type": "code",
   "execution_count": 249,
   "metadata": {},
   "outputs": [
    {
     "name": "stderr",
     "output_type": "stream",
     "text": [
      "C:\\Users\\saumy\\Anaconda3\\lib\\site-packages\\ipykernel_launcher.py:2: SettingWithCopyWarning: \n",
      "A value is trying to be set on a copy of a slice from a DataFrame\n",
      "\n",
      "See the caveats in the documentation: http://pandas.pydata.org/pandas-docs/stable/user_guide/indexing.html#returning-a-view-versus-a-copy\n",
      "  \n"
     ]
    },
    {
     "data": {
      "text/html": [
       "<div>\n",
       "<style scoped>\n",
       "    .dataframe tbody tr th:only-of-type {\n",
       "        vertical-align: middle;\n",
       "    }\n",
       "\n",
       "    .dataframe tbody tr th {\n",
       "        vertical-align: top;\n",
       "    }\n",
       "\n",
       "    .dataframe thead th {\n",
       "        text-align: right;\n",
       "    }\n",
       "</style>\n",
       "<table border=\"1\" class=\"dataframe\">\n",
       "  <thead>\n",
       "    <tr style=\"text-align: right;\">\n",
       "      <th></th>\n",
       "      <th>Tweet</th>\n",
       "      <th>Username</th>\n",
       "      <th>Date</th>\n",
       "      <th>Likes</th>\n",
       "      <th>Retweet count</th>\n",
       "    </tr>\n",
       "  </thead>\n",
       "  <tbody>\n",
       "    <tr>\n",
       "      <td>0</td>\n",
       "      <td>\"Black Lives Matter presents an inaccurate and...</td>\n",
       "      <td>Telegraph</td>\n",
       "      <td>2020-06-30</td>\n",
       "      <td>48</td>\n",
       "      <td>21</td>\n",
       "    </tr>\n",
       "    <tr>\n",
       "      <td>1</td>\n",
       "      <td>\"Our protest was on June 4 and we started to g...</td>\n",
       "      <td>Telegraph</td>\n",
       "      <td>2020-06-30</td>\n",
       "      <td>38</td>\n",
       "      <td>29</td>\n",
       "    </tr>\n",
       "    <tr>\n",
       "      <td>2</td>\n",
       "      <td>\"Glorifying difference is exactly what BLM and...</td>\n",
       "      <td>Telegraph</td>\n",
       "      <td>2020-06-30</td>\n",
       "      <td>39</td>\n",
       "      <td>11</td>\n",
       "    </tr>\n",
       "    <tr>\n",
       "      <td>3</td>\n",
       "      <td>The Black Lives Matter movement has drawn atte...</td>\n",
       "      <td>Telegraph</td>\n",
       "      <td>2020-06-29</td>\n",
       "      <td>13</td>\n",
       "      <td>7</td>\n",
       "    </tr>\n",
       "    <tr>\n",
       "      <td>4</td>\n",
       "      <td>\"Glorifying difference is exactly what BLM and...</td>\n",
       "      <td>Telegraph</td>\n",
       "      <td>2020-06-29</td>\n",
       "      <td>29</td>\n",
       "      <td>12</td>\n",
       "    </tr>\n",
       "  </tbody>\n",
       "</table>\n",
       "</div>"
      ],
      "text/plain": [
       "                                               Tweet   Username       Date  \\\n",
       "0  \"Black Lives Matter presents an inaccurate and...  Telegraph 2020-06-30   \n",
       "1  \"Our protest was on June 4 and we started to g...  Telegraph 2020-06-30   \n",
       "2  \"Glorifying difference is exactly what BLM and...  Telegraph 2020-06-30   \n",
       "3  The Black Lives Matter movement has drawn atte...  Telegraph 2020-06-29   \n",
       "4  \"Glorifying difference is exactly what BLM and...  Telegraph 2020-06-29   \n",
       "\n",
       "  Likes Retweet count  \n",
       "0    48            21  \n",
       "1    38            29  \n",
       "2    39            11  \n",
       "3    13             7  \n",
       "4    29            12  "
      ]
     },
     "execution_count": 249,
     "metadata": {},
     "output_type": "execute_result"
    }
   ],
   "source": [
    "for i in range(0,len(df)):\n",
    "    df['Date'][i] = df['Date'][i].date()\n",
    "df.head()"
   ]
  },
  {
   "cell_type": "code",
   "execution_count": 250,
   "metadata": {},
   "outputs": [],
   "source": [
    "def cleaning_tweet(text):\n",
    "    text = re.sub(\"@[\\w]*\",\"\", text)\n",
    "    text = demoji.replace(text,\"\")\n",
    "    text = re.sub(\"https?://[A-Za-z0-9./]*\",\"\",text)\n",
    "    text = re.sub(\"\\n\",\"\",text)\n",
    "    return text"
   ]
  },
  {
   "cell_type": "code",
   "execution_count": 251,
   "metadata": {},
   "outputs": [
    {
     "name": "stderr",
     "output_type": "stream",
     "text": [
      "C:\\Users\\saumy\\Anaconda3\\lib\\site-packages\\ipykernel_launcher.py:3: SettingWithCopyWarning: \n",
      "A value is trying to be set on a copy of a slice from a DataFrame\n",
      "\n",
      "See the caveats in the documentation: http://pandas.pydata.org/pandas-docs/stable/user_guide/indexing.html#returning-a-view-versus-a-copy\n",
      "  This is separate from the ipykernel package so we can avoid doing imports until\n"
     ]
    }
   ],
   "source": [
    "# cleaning the tweets for addresses\n",
    "for i in range(0, len(df)):\n",
    "    df['Tweet'][i] = cleaning_tweet(df['Tweet'][i])"
   ]
  },
  {
   "cell_type": "code",
   "execution_count": 252,
   "metadata": {},
   "outputs": [],
   "source": [
    "# nlp corpus available from spacy to be able to distinguish the various words in the tweets by category\n",
    "nlp = en_core_web_sm.load()"
   ]
  },
  {
   "cell_type": "code",
   "execution_count": null,
   "metadata": {},
   "outputs": [
    {
     "name": "stderr",
     "output_type": "stream",
     "text": [
      "C:\\Users\\saumy\\Anaconda3\\lib\\site-packages\\ipykernel_launcher.py:8: SettingWithCopyWarning: \n",
      "A value is trying to be set on a copy of a slice from a DataFrame\n",
      "\n",
      "See the caveats in the documentation: http://pandas.pydata.org/pandas-docs/stable/user_guide/indexing.html#returning-a-view-versus-a-copy\n",
      "  \n"
     ]
    }
   ],
   "source": [
    "# creating entities column along with their categories\n",
    "df['Entities'] = pd.Series(len(df)*[\"\"])\n",
    "for i in range(0, len(df)):\n",
    "    current_tweet = df['Tweet'][i]\n",
    "    current_entities = []\n",
    "    for ent in nlp(current_tweet).ents:\n",
    "        current_entities.append([ent.text, ent.label_])\n",
    "    df['Entities'][i] = current_entities"
   ]
  },
  {
   "cell_type": "code",
   "execution_count": null,
   "metadata": {},
   "outputs": [],
   "source": [
    "# setting up for the natural language processing tool kit\n",
    "import nltk\n",
    "from vaderSentiment.vaderSentiment import SentimentIntensityAnalyzer\n",
    "nltk.download('vader_lexicon')\n",
    "analyzer = SentimentIntensityAnalyzer()"
   ]
  },
  {
   "cell_type": "code",
   "execution_count": null,
   "metadata": {},
   "outputs": [],
   "source": [
    "# Sentiment polarity calculated\n",
    "df['Sentiment'] = pd.Series(len(df)*[\"\"])\n",
    "for i in range(0,len(df)):\n",
    "    df['Sentiment'][i] = analyzer.polarity_scores(df['Tweet'][i])"
   ]
  },
  {
   "cell_type": "code",
   "execution_count": null,
   "metadata": {},
   "outputs": [],
   "source": [
    "# function to get average compound sentiment \n",
    "def getAverageSentiment(username):\n",
    "    total_sentiment = 0.0\n",
    "    user_count = 0;\n",
    "    for i in range(0,len(df)):\n",
    "        if (df['Username'][i] == username):\n",
    "            user_count = user_count + 1;\n",
    "            total_sentiment += df['Sentiment'][i]['compound']\n",
    "    return total_sentiment/user_count"
   ]
  },
  {
   "cell_type": "code",
   "execution_count": null,
   "metadata": {},
   "outputs": [],
   "source": [
    "# Creating a sentiment dataframe by news source\n",
    "df_sentiment = pd.DataFrame(columns=[\"News Source\", \"Average News Sentiment\"])\n",
    "sources = df['Username'].unique()\n",
    "for source in sources:\n",
    "    compound_sentiment = getAverageSentiment(source)\n",
    "    compound_sentiment\n",
    "    df_sentiment = df_sentiment.append({'News Source': source, \"Average News Sentiment\": compound_sentiment}, ignore_index = True)"
   ]
  },
  {
   "cell_type": "code",
   "execution_count": null,
   "metadata": {
    "scrolled": true
   },
   "outputs": [],
   "source": [
    "# plotting news source by its polarity\n",
    "plt.figure(figsize=(35, 12))\n",
    "#fig = plt.figure(figsize=(100,50))\n",
    "plt.bar(df_sentiment['News Source'][0:13],df_sentiment['Average News Sentiment'][0:13], color = \"teal\")\n",
    "plt.xlabel(\"sources\",fontsize = 26)\n",
    "plt.ylabel(\"Compound polarity\", fontsize = 26)\n",
    "plt.title(\"News Source and Polarity: I\", fontsize = 35)\n",
    "plt.tick_params(labelsize=21)\n",
    "plt.show()"
   ]
  },
  {
   "cell_type": "code",
   "execution_count": null,
   "metadata": {},
   "outputs": [],
   "source": [
    "# all the sources covered\n",
    "plt.figure(figsize=(35, 12))\n",
    "plt.bar(df_sentiment['News Source'][13:],df_sentiment['Average News Sentiment'][13:], color = \"lavender\")\n",
    "plt.xlabel(\"sources\",fontsize = 26)\n",
    "plt.ylabel(\"Compound polarity\", fontsize = 26)\n",
    "plt.title(\"News Source and Polarity: II\", fontsize = 35)\n",
    "plt.tick_params(labelsize=21)\n",
    "plt.show()"
   ]
  },
  {
   "cell_type": "code",
   "execution_count": null,
   "metadata": {},
   "outputs": [],
   "source": [
    "# Cumulative of all of a feature on a given date \n",
    "def allFeatureOnDate(date, feature):\n",
    "    total_feature = 0;\n",
    "    for i in range(0,len(df)):\n",
    "        if(df['Date'][i]== date):\n",
    "            total_feature = total_feature + df[feature][i]\n",
    "    return total_feature"
   ]
  },
  {
   "cell_type": "code",
   "execution_count": null,
   "metadata": {},
   "outputs": [],
   "source": [
    "# creating a date dataframe containing all the likes and tweets on a given day\n",
    "all_dates = df['Date'].unique()\n",
    "df_date = pd.DataFrame(columns = [\"Date\",\"Total Likes\",\"Total Retweets\"])\n",
    "for date in all_dates:\n",
    "    total_likes = allFeatureOnDate(date, 'Likes')\n",
    "    total_retweets = allFeatureOnDate(date,'Retweet count')\n",
    "    df_date = df_date.append({\"Date\": date, \"Total Likes\":total_likes,\"Total Retweets\":total_retweets}, ignore_index = True)\n",
    "df_date.head()"
   ]
  },
  {
   "cell_type": "code",
   "execution_count": null,
   "metadata": {},
   "outputs": [],
   "source": [
    "# plotting likes vs date\n",
    "plt.figure(figsize=(35, 12))\n",
    "plt.bar(df_date['Date'], df_date['Total Likes'], color = \"green\")\n",
    "plt.xlabel(\"Date\",fontsize = 30)\n",
    "plt.ylabel(\"Total Likes\", fontsize = 30)\n",
    "plt.title(\"Date vs Total Likes\", fontsize = 40)\n",
    "plt.tick_params(labelsize=28)\n",
    "plt.show()"
   ]
  },
  {
   "cell_type": "code",
   "execution_count": null,
   "metadata": {},
   "outputs": [],
   "source": [
    "# plotting date vs retweets\n",
    "plt.figure(figsize=(35, 12))\n",
    "plt.bar(df_date['Date'], df_date['Total Retweets'])\n",
    "plt.xlabel(\"Date\",fontsize = 30)\n",
    "plt.ylabel(\"Total Retweets\", fontsize = 30)\n",
    "plt.title(\"Date vs Total Retweets\", fontsize = 40)\n",
    "plt.tick_params(labelsize=28)\n",
    "plt.show()"
   ]
  },
  {
   "cell_type": "code",
   "execution_count": null,
   "metadata": {},
   "outputs": [],
   "source": []
  }
 ],
 "metadata": {
  "kernelspec": {
   "display_name": "Python 3",
   "language": "python",
   "name": "python3"
  },
  "language_info": {
   "codemirror_mode": {
    "name": "ipython",
    "version": 3
   },
   "file_extension": ".py",
   "mimetype": "text/x-python",
   "name": "python",
   "nbconvert_exporter": "python",
   "pygments_lexer": "ipython3",
   "version": "3.7.4"
  }
 },
 "nbformat": 4,
 "nbformat_minor": 2
}
