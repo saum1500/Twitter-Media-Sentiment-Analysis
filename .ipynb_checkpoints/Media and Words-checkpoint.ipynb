{
 "cells": [
  {
   "cell_type": "code",
   "execution_count": 7,
   "metadata": {},
   "outputs": [],
   "source": [
    "import pickle\n",
    "list_of_media_resources = [\"telegraph\",\"cbcnews\", \"independent\", \"rt_com\", \"guardiannews\", \"france24_en\",\"cnbc\",\"newsweek\", \"skynewsbreak\",\"ajenglish\",\"skynews\",\"financialtimes\",\"guardian\",\"breakingnews\",\"huffpost\",\"ndtv\",\"xhnews\",\"ap\",\"washingtonpost\",\"abc\",\"time\",\"wsj\",\"reuters\",\"theeconomist\",\"bbcworld\",\"bbcbreaking\",\"cnn\",\"nytimes\",\"cnnbrk\"]\n",
    "#list_of_blm_words = [\"Black+lives+matter\",\"racism\", \"police+brutality\", \"george+floyd\",\"breonna+taylor\",\"ahmaud+arbery\",\"police+protest\",\"defund+police\",\"minnesota+police\"]\n",
    "list_of_blm_words = [\"Black+lives+matter\",\"racism\"]"
   ]
  },
  {
   "cell_type": "code",
   "execution_count": 8,
   "metadata": {},
   "outputs": [],
   "source": [
    "pickle.dump(list_of_media_resources,open(\"save.media\", \"wb\"))\n",
    "pickle.dump(list_of_blm_words, open(\"save.words\", \"wb\"))"
   ]
  }
 ],
 "metadata": {
  "kernelspec": {
   "display_name": "Python 3",
   "language": "python",
   "name": "python3"
  },
  "language_info": {
   "codemirror_mode": {
    "name": "ipython",
    "version": 3
   },
   "file_extension": ".py",
   "mimetype": "text/x-python",
   "name": "python",
   "nbconvert_exporter": "python",
   "pygments_lexer": "ipython3",
   "version": "3.7.4"
  }
 },
 "nbformat": 4,
 "nbformat_minor": 2
}
