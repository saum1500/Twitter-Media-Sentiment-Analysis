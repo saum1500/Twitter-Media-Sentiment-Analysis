{
 "cells": [
  {
   "cell_type": "code",
   "execution_count": 10,
   "metadata": {},
   "outputs": [],
   "source": [
    "import pickle"
   ]
  },
  {
   "cell_type": "code",
   "execution_count": 11,
   "metadata": {},
   "outputs": [],
   "source": [
    "ACCESS_TOKEN = \"1206607184328613888-U5KwcIw7xlb6WOukxTdxFmo5c9fg67\"\n",
    "ACCESS_TOKEN_SECRET = \"yc09cuDPvkm2jfweFc61Xsi5g5suBKUehAFaI6MKlpnus\"\n",
    "CONSUMER_KEY = \"I1E1a0f84OGBygZSaUDwHDx7E\"\n",
    "CONSUMER_SECRET = \"JQp481U7LRkgaoNdcrDiMUSQtE8eb9Z2qfKmEYNazXqRK5Ms6L\""
   ]
  },
  {
   "cell_type": "code",
   "execution_count": 12,
   "metadata": {},
   "outputs": [],
   "source": [
    "credentials = [ACCESS_TOKEN, ACCESS_TOKEN_SECRET,CONSUMER_KEY,CONSUMER_SECRET]"
   ]
  },
  {
   "cell_type": "code",
   "execution_count": 13,
   "metadata": {},
   "outputs": [],
   "source": [
    "pickle.dump(credentials,open(\"save.credentials\", \"wb\"))"
   ]
  }
 ],
 "metadata": {
  "kernelspec": {
   "display_name": "Python 3",
   "language": "python",
   "name": "python3"
  },
  "language_info": {
   "codemirror_mode": {
    "name": "ipython",
    "version": 3
   },
   "file_extension": ".py",
   "mimetype": "text/x-python",
   "name": "python",
   "nbconvert_exporter": "python",
   "pygments_lexer": "ipython3",
   "version": "3.7.4"
  }
 },
 "nbformat": 4,
 "nbformat_minor": 2
}
