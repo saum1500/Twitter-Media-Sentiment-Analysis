{
 "cells": [
  {
   "cell_type": "code",
   "execution_count": 1,
   "metadata": {},
   "outputs": [
    {
     "name": "stderr",
     "output_type": "stream",
     "text": [
      "C:\\Users\\saumy\\Anaconda3\\lib\\site-packages\\spacy\\util.py:271: UserWarning: [W031] Model 'en_core_web_sm' (2.2.0) requires spaCy v2.2 and is incompatible with the current spaCy version (2.3.0). This may lead to unexpected results or runtime errors. To resolve this, download a newer compatible model or retrain your custom model with the current spaCy version. For more details and available updates, run: python -m spacy validate\n",
      "  warnings.warn(warn_msg)\n"
     ]
    }
   ],
   "source": [
    "import pickle\n",
    "import pandas as pd\n",
    "import re\n",
    "import demoji\n",
    "import spacy\n",
    "import en_core_web_sm"
   ]
  },
  {
   "cell_type": "code",
   "execution_count": 2,
   "metadata": {},
   "outputs": [
    {
     "data": {
      "text/html": [
       "<div>\n",
       "<style scoped>\n",
       "    .dataframe tbody tr th:only-of-type {\n",
       "        vertical-align: middle;\n",
       "    }\n",
       "\n",
       "    .dataframe tbody tr th {\n",
       "        vertical-align: top;\n",
       "    }\n",
       "\n",
       "    .dataframe thead th {\n",
       "        text-align: right;\n",
       "    }\n",
       "</style>\n",
       "<table border=\"1\" class=\"dataframe\">\n",
       "  <thead>\n",
       "    <tr style=\"text-align: right;\">\n",
       "      <th></th>\n",
       "      <th>Tweet</th>\n",
       "      <th>Username</th>\n",
       "      <th>Likes</th>\n",
       "      <th>Retweet count</th>\n",
       "    </tr>\n",
       "  </thead>\n",
       "  <tbody>\n",
       "    <tr>\n",
       "      <td>0</td>\n",
       "      <td>#BlackLivesMatter presents an inaccurate and i...</td>\n",
       "      <td>Telegraph</td>\n",
       "      <td>61</td>\n",
       "      <td>19</td>\n",
       "    </tr>\n",
       "    <tr>\n",
       "      <td>1</td>\n",
       "      <td>\"The next stage is the counter-strike by those...</td>\n",
       "      <td>Telegraph</td>\n",
       "      <td>12</td>\n",
       "      <td>3</td>\n",
       "    </tr>\n",
       "    <tr>\n",
       "      <td>2</td>\n",
       "      <td>@DannyBoyle87 Black Lives Matter: BBC says sho...</td>\n",
       "      <td>Telegraph</td>\n",
       "      <td>19</td>\n",
       "      <td>5</td>\n",
       "    </tr>\n",
       "    <tr>\n",
       "      <td>3</td>\n",
       "      <td>A new study which assessed data from 315 US ci...</td>\n",
       "      <td>Telegraph</td>\n",
       "      <td>52</td>\n",
       "      <td>18</td>\n",
       "    </tr>\n",
       "    <tr>\n",
       "      <td>4</td>\n",
       "      <td>✉️ Letters to the Editor: 'As a BAME citizen, ...</td>\n",
       "      <td>Telegraph</td>\n",
       "      <td>34</td>\n",
       "      <td>10</td>\n",
       "    </tr>\n",
       "    <tr>\n",
       "      <td>...</td>\n",
       "      <td>...</td>\n",
       "      <td>...</td>\n",
       "      <td>...</td>\n",
       "      <td>...</td>\n",
       "    </tr>\n",
       "    <tr>\n",
       "      <td>1218</td>\n",
       "      <td>The Kentucky Senate race changed after the fat...</td>\n",
       "      <td>nytimes</td>\n",
       "      <td>464</td>\n",
       "      <td>132</td>\n",
       "    </tr>\n",
       "    <tr>\n",
       "      <td>1219</td>\n",
       "      <td>Interviews with superdelegates and members of ...</td>\n",
       "      <td>nytimes</td>\n",
       "      <td>210</td>\n",
       "      <td>45</td>\n",
       "    </tr>\n",
       "    <tr>\n",
       "      <td>1220</td>\n",
       "      <td>8 correctional officers have filed complaints ...</td>\n",
       "      <td>nytimes</td>\n",
       "      <td>1994</td>\n",
       "      <td>872</td>\n",
       "    </tr>\n",
       "    <tr>\n",
       "      <td>1221</td>\n",
       "      <td>Police in Los Angeles County used rubber bulle...</td>\n",
       "      <td>cnnbrk</td>\n",
       "      <td>1468</td>\n",
       "      <td>623</td>\n",
       "    </tr>\n",
       "    <tr>\n",
       "      <td>1222</td>\n",
       "      <td>The FBI is investigating after a piece of rope...</td>\n",
       "      <td>cnnbrk</td>\n",
       "      <td>1604</td>\n",
       "      <td>743</td>\n",
       "    </tr>\n",
       "  </tbody>\n",
       "</table>\n",
       "<p>1223 rows × 4 columns</p>\n",
       "</div>"
      ],
      "text/plain": [
       "                                                  Tweet   Username Likes  \\\n",
       "0     #BlackLivesMatter presents an inaccurate and i...  Telegraph    61   \n",
       "1     \"The next stage is the counter-strike by those...  Telegraph    12   \n",
       "2     @DannyBoyle87 Black Lives Matter: BBC says sho...  Telegraph    19   \n",
       "3     A new study which assessed data from 315 US ci...  Telegraph    52   \n",
       "4     ✉️ Letters to the Editor: 'As a BAME citizen, ...  Telegraph    34   \n",
       "...                                                 ...        ...   ...   \n",
       "1218  The Kentucky Senate race changed after the fat...    nytimes   464   \n",
       "1219  Interviews with superdelegates and members of ...    nytimes   210   \n",
       "1220  8 correctional officers have filed complaints ...    nytimes  1994   \n",
       "1221  Police in Los Angeles County used rubber bulle...     cnnbrk  1468   \n",
       "1222  The FBI is investigating after a piece of rope...     cnnbrk  1604   \n",
       "\n",
       "     Retweet count  \n",
       "0               19  \n",
       "1                3  \n",
       "2                5  \n",
       "3               18  \n",
       "4               10  \n",
       "...            ...  \n",
       "1218           132  \n",
       "1219            45  \n",
       "1220           872  \n",
       "1221           623  \n",
       "1222           743  \n",
       "\n",
       "[1223 rows x 4 columns]"
      ]
     },
     "metadata": {},
     "output_type": "display_data"
    },
    {
     "data": {
      "text/plain": [
       "(1223, 4)"
      ]
     },
     "metadata": {},
     "output_type": "display_data"
    }
   ],
   "source": [
    "# loading the dataset we \n",
    "df = pd.DataFrame()\n",
    "df = pickle.load(open(\"28thJunedata\",\"rb\"))\n",
    "display(df, df.shape)"
   ]
  },
  {
   "cell_type": "code",
   "execution_count": 3,
   "metadata": {},
   "outputs": [],
   "source": [
    "def cleaning_tweet(text):\n",
    "    text = re.sub(\"@[\\w]*\",\"\", text)\n",
    "    text = demoji.replace(text,\"\")\n",
    "    text = re.sub(\"https?://[A-Za-z0-9./]*\",\"\",text)\n",
    "    text = re.sub(\"\\n\",\"\",text)\n",
    "    return text"
   ]
  },
  {
   "cell_type": "code",
   "execution_count": 4,
   "metadata": {},
   "outputs": [],
   "source": [
    "# cleaning the tweets for addresses\n",
    "for i in range(0, len(df)):\n",
    "    df['Tweet'][i] = cleaning_tweet(df['Tweet'][i])"
   ]
  },
  {
   "cell_type": "code",
   "execution_count": 5,
   "metadata": {},
   "outputs": [],
   "source": [
    "# nlp corpus available from spacy to be able to distinguish the various words in the tweets by category\n",
    "nlp = en_core_web_sm.load()"
   ]
  },
  {
   "cell_type": "code",
   "execution_count": 7,
   "metadata": {},
   "outputs": [],
   "source": [
    "df['Entities'] = pd.Series(len(df)*[\" \"])\n",
    "for i in range(0, len(df)):\n",
    "    current_tweet = df['Tweet'][i]\n",
    "    current_entities = []\n",
    "    for ent in nlp(current_tweet).ents:\n",
    "        current_entities.append([ent.text, ent.label_])\n",
    "    df['Entities'][i] = current_entities"
   ]
  },
  {
   "cell_type": "code",
   "execution_count": 8,
   "metadata": {},
   "outputs": [
    {
     "name": "stderr",
     "output_type": "stream",
     "text": [
      "[nltk_data] Downloading package vader_lexicon to\n",
      "[nltk_data]     C:\\Users\\saumy\\AppData\\Roaming\\nltk_data...\n",
      "[nltk_data]   Package vader_lexicon is already up-to-date!\n"
     ]
    }
   ],
   "source": [
    "import nltk\n",
    "from vaderSentiment.vaderSentiment import SentimentIntensityAnalyzer\n",
    "nltk.download('vader_lexicon')\n",
    "analyzer = SentimentIntensityAnalyzer()"
   ]
  },
  {
   "cell_type": "code",
   "execution_count": null,
   "metadata": {},
   "outputs": [],
   "source": []
  }
 ],
 "metadata": {
  "kernelspec": {
   "display_name": "Python 3",
   "language": "python",
   "name": "python3"
  },
  "language_info": {
   "codemirror_mode": {
    "name": "ipython",
    "version": 3
   },
   "file_extension": ".py",
   "mimetype": "text/x-python",
   "name": "python",
   "nbconvert_exporter": "python",
   "pygments_lexer": "ipython3",
   "version": "3.7.4"
  }
 },
 "nbformat": 4,
 "nbformat_minor": 2
}
